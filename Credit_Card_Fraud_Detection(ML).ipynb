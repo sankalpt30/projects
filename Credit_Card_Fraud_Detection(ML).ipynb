{
  "nbformat": 4,
  "nbformat_minor": 0,
  "metadata": {
    "colab": {
      "provenance": [],
      "mount_file_id": "1AAEvHytHX557L8VesFVALr0qf6GbKqNH",
      "authorship_tag": "ABX9TyNNFs5QXliG1cVyQNcu0+Vd",
      "include_colab_link": true
    },
    "kernelspec": {
      "name": "python3",
      "display_name": "Python 3"
    },
    "language_info": {
      "name": "python"
    }
  },
  "cells": [
    {
      "cell_type": "markdown",
      "metadata": {
        "id": "view-in-github",
        "colab_type": "text"
      },
      "source": [
        "<a href=\"https://colab.research.google.com/github/sankalpt30/projects/blob/main/Credit_Card_Fraud_Detection(ML).ipynb\" target=\"_parent\"><img src=\"https://colab.research.google.com/assets/colab-badge.svg\" alt=\"Open In Colab\"/></a>"
      ]
    },
    {
      "cell_type": "markdown",
      "source": [
        "Importing the Dependencies"
      ],
      "metadata": {
        "id": "7Z7TqtvEK3zP"
      }
    },
    {
      "cell_type": "code",
      "execution_count": 1,
      "metadata": {
        "id": "doI4QM1uJYOw"
      },
      "outputs": [],
      "source": [
        "import numpy as np\n",
        "import pandas as pd\n",
        "from sklearn.model_selection import train_test_split\n",
        "from sklearn.linear_model import LogisticRegression\n",
        "from sklearn.metrics import accuracy_score"
      ]
    },
    {
      "cell_type": "markdown",
      "source": [
        "Loading dataset to a Pandas Dataframe"
      ],
      "metadata": {
        "id": "Zq_gRN3OLv7r"
      }
    },
    {
      "cell_type": "code",
      "source": [
        "credit_card_data = pd.read_csv('/content/creditcard.csv')"
      ],
      "metadata": {
        "id": "oFU5VXC7Ln15"
      },
      "execution_count": 16,
      "outputs": []
    },
    {
      "cell_type": "code",
      "source": [
        "credit_card_data.head()"
      ],
      "metadata": {
        "colab": {
          "base_uri": "https://localhost:8080/",
          "height": 300
        },
        "id": "KSLcl721MDvz",
        "outputId": "d47851ce-c941-4cea-d603-b74240defa16"
      },
      "execution_count": 17,
      "outputs": [
        {
          "output_type": "execute_result",
          "data": {
            "text/plain": [
              "   Time        V1        V2        V3        V4        V5        V6        V7  \\\n",
              "0     0 -1.359807 -0.072781  2.536347  1.378155 -0.338321  0.462388  0.239599   \n",
              "1     0  1.191857  0.266151  0.166480  0.448154  0.060018 -0.082361 -0.078803   \n",
              "2     1 -1.358354 -1.340163  1.773209  0.379780 -0.503198  1.800499  0.791461   \n",
              "3     1 -0.966272 -0.185226  1.792993 -0.863291 -0.010309  1.247203  0.237609   \n",
              "4     2 -1.158233  0.877737  1.548718  0.403034 -0.407193  0.095921  0.592941   \n",
              "\n",
              "         V8        V9  ...       V21       V22       V23       V24       V25  \\\n",
              "0  0.098698  0.363787  ... -0.018307  0.277838 -0.110474  0.066928  0.128539   \n",
              "1  0.085102 -0.255425  ... -0.225775 -0.638672  0.101288 -0.339846  0.167170   \n",
              "2  0.247676 -1.514654  ...  0.247998  0.771679  0.909412 -0.689281 -0.327642   \n",
              "3  0.377436 -1.387024  ... -0.108300  0.005274 -0.190321 -1.175575  0.647376   \n",
              "4 -0.270533  0.817739  ... -0.009431  0.798278 -0.137458  0.141267 -0.206010   \n",
              "\n",
              "        V26       V27       V28  Amount  Class  \n",
              "0 -0.189115  0.133558 -0.021053  149.62    0.0  \n",
              "1  0.125895 -0.008983  0.014724    2.69    0.0  \n",
              "2 -0.139097 -0.055353 -0.059752  378.66    0.0  \n",
              "3 -0.221929  0.062723  0.061458  123.50    0.0  \n",
              "4  0.502292  0.219422  0.215153   69.99    0.0  \n",
              "\n",
              "[5 rows x 31 columns]"
            ],
            "text/html": [
              "\n",
              "  <div id=\"df-ce95fff4-050b-4910-85b4-ed52d024f6da\">\n",
              "    <div class=\"colab-df-container\">\n",
              "      <div>\n",
              "<style scoped>\n",
              "    .dataframe tbody tr th:only-of-type {\n",
              "        vertical-align: middle;\n",
              "    }\n",
              "\n",
              "    .dataframe tbody tr th {\n",
              "        vertical-align: top;\n",
              "    }\n",
              "\n",
              "    .dataframe thead th {\n",
              "        text-align: right;\n",
              "    }\n",
              "</style>\n",
              "<table border=\"1\" class=\"dataframe\">\n",
              "  <thead>\n",
              "    <tr style=\"text-align: right;\">\n",
              "      <th></th>\n",
              "      <th>Time</th>\n",
              "      <th>V1</th>\n",
              "      <th>V2</th>\n",
              "      <th>V3</th>\n",
              "      <th>V4</th>\n",
              "      <th>V5</th>\n",
              "      <th>V6</th>\n",
              "      <th>V7</th>\n",
              "      <th>V8</th>\n",
              "      <th>V9</th>\n",
              "      <th>...</th>\n",
              "      <th>V21</th>\n",
              "      <th>V22</th>\n",
              "      <th>V23</th>\n",
              "      <th>V24</th>\n",
              "      <th>V25</th>\n",
              "      <th>V26</th>\n",
              "      <th>V27</th>\n",
              "      <th>V28</th>\n",
              "      <th>Amount</th>\n",
              "      <th>Class</th>\n",
              "    </tr>\n",
              "  </thead>\n",
              "  <tbody>\n",
              "    <tr>\n",
              "      <th>0</th>\n",
              "      <td>0</td>\n",
              "      <td>-1.359807</td>\n",
              "      <td>-0.072781</td>\n",
              "      <td>2.536347</td>\n",
              "      <td>1.378155</td>\n",
              "      <td>-0.338321</td>\n",
              "      <td>0.462388</td>\n",
              "      <td>0.239599</td>\n",
              "      <td>0.098698</td>\n",
              "      <td>0.363787</td>\n",
              "      <td>...</td>\n",
              "      <td>-0.018307</td>\n",
              "      <td>0.277838</td>\n",
              "      <td>-0.110474</td>\n",
              "      <td>0.066928</td>\n",
              "      <td>0.128539</td>\n",
              "      <td>-0.189115</td>\n",
              "      <td>0.133558</td>\n",
              "      <td>-0.021053</td>\n",
              "      <td>149.62</td>\n",
              "      <td>0.0</td>\n",
              "    </tr>\n",
              "    <tr>\n",
              "      <th>1</th>\n",
              "      <td>0</td>\n",
              "      <td>1.191857</td>\n",
              "      <td>0.266151</td>\n",
              "      <td>0.166480</td>\n",
              "      <td>0.448154</td>\n",
              "      <td>0.060018</td>\n",
              "      <td>-0.082361</td>\n",
              "      <td>-0.078803</td>\n",
              "      <td>0.085102</td>\n",
              "      <td>-0.255425</td>\n",
              "      <td>...</td>\n",
              "      <td>-0.225775</td>\n",
              "      <td>-0.638672</td>\n",
              "      <td>0.101288</td>\n",
              "      <td>-0.339846</td>\n",
              "      <td>0.167170</td>\n",
              "      <td>0.125895</td>\n",
              "      <td>-0.008983</td>\n",
              "      <td>0.014724</td>\n",
              "      <td>2.69</td>\n",
              "      <td>0.0</td>\n",
              "    </tr>\n",
              "    <tr>\n",
              "      <th>2</th>\n",
              "      <td>1</td>\n",
              "      <td>-1.358354</td>\n",
              "      <td>-1.340163</td>\n",
              "      <td>1.773209</td>\n",
              "      <td>0.379780</td>\n",
              "      <td>-0.503198</td>\n",
              "      <td>1.800499</td>\n",
              "      <td>0.791461</td>\n",
              "      <td>0.247676</td>\n",
              "      <td>-1.514654</td>\n",
              "      <td>...</td>\n",
              "      <td>0.247998</td>\n",
              "      <td>0.771679</td>\n",
              "      <td>0.909412</td>\n",
              "      <td>-0.689281</td>\n",
              "      <td>-0.327642</td>\n",
              "      <td>-0.139097</td>\n",
              "      <td>-0.055353</td>\n",
              "      <td>-0.059752</td>\n",
              "      <td>378.66</td>\n",
              "      <td>0.0</td>\n",
              "    </tr>\n",
              "    <tr>\n",
              "      <th>3</th>\n",
              "      <td>1</td>\n",
              "      <td>-0.966272</td>\n",
              "      <td>-0.185226</td>\n",
              "      <td>1.792993</td>\n",
              "      <td>-0.863291</td>\n",
              "      <td>-0.010309</td>\n",
              "      <td>1.247203</td>\n",
              "      <td>0.237609</td>\n",
              "      <td>0.377436</td>\n",
              "      <td>-1.387024</td>\n",
              "      <td>...</td>\n",
              "      <td>-0.108300</td>\n",
              "      <td>0.005274</td>\n",
              "      <td>-0.190321</td>\n",
              "      <td>-1.175575</td>\n",
              "      <td>0.647376</td>\n",
              "      <td>-0.221929</td>\n",
              "      <td>0.062723</td>\n",
              "      <td>0.061458</td>\n",
              "      <td>123.50</td>\n",
              "      <td>0.0</td>\n",
              "    </tr>\n",
              "    <tr>\n",
              "      <th>4</th>\n",
              "      <td>2</td>\n",
              "      <td>-1.158233</td>\n",
              "      <td>0.877737</td>\n",
              "      <td>1.548718</td>\n",
              "      <td>0.403034</td>\n",
              "      <td>-0.407193</td>\n",
              "      <td>0.095921</td>\n",
              "      <td>0.592941</td>\n",
              "      <td>-0.270533</td>\n",
              "      <td>0.817739</td>\n",
              "      <td>...</td>\n",
              "      <td>-0.009431</td>\n",
              "      <td>0.798278</td>\n",
              "      <td>-0.137458</td>\n",
              "      <td>0.141267</td>\n",
              "      <td>-0.206010</td>\n",
              "      <td>0.502292</td>\n",
              "      <td>0.219422</td>\n",
              "      <td>0.215153</td>\n",
              "      <td>69.99</td>\n",
              "      <td>0.0</td>\n",
              "    </tr>\n",
              "  </tbody>\n",
              "</table>\n",
              "<p>5 rows × 31 columns</p>\n",
              "</div>\n",
              "      <button class=\"colab-df-convert\" onclick=\"convertToInteractive('df-ce95fff4-050b-4910-85b4-ed52d024f6da')\"\n",
              "              title=\"Convert this dataframe to an interactive table.\"\n",
              "              style=\"display:none;\">\n",
              "        \n",
              "  <svg xmlns=\"http://www.w3.org/2000/svg\" height=\"24px\"viewBox=\"0 0 24 24\"\n",
              "       width=\"24px\">\n",
              "    <path d=\"M0 0h24v24H0V0z\" fill=\"none\"/>\n",
              "    <path d=\"M18.56 5.44l.94 2.06.94-2.06 2.06-.94-2.06-.94-.94-2.06-.94 2.06-2.06.94zm-11 1L8.5 8.5l.94-2.06 2.06-.94-2.06-.94L8.5 2.5l-.94 2.06-2.06.94zm10 10l.94 2.06.94-2.06 2.06-.94-2.06-.94-.94-2.06-.94 2.06-2.06.94z\"/><path d=\"M17.41 7.96l-1.37-1.37c-.4-.4-.92-.59-1.43-.59-.52 0-1.04.2-1.43.59L10.3 9.45l-7.72 7.72c-.78.78-.78 2.05 0 2.83L4 21.41c.39.39.9.59 1.41.59.51 0 1.02-.2 1.41-.59l7.78-7.78 2.81-2.81c.8-.78.8-2.07 0-2.86zM5.41 20L4 18.59l7.72-7.72 1.47 1.35L5.41 20z\"/>\n",
              "  </svg>\n",
              "      </button>\n",
              "      \n",
              "  <style>\n",
              "    .colab-df-container {\n",
              "      display:flex;\n",
              "      flex-wrap:wrap;\n",
              "      gap: 12px;\n",
              "    }\n",
              "\n",
              "    .colab-df-convert {\n",
              "      background-color: #E8F0FE;\n",
              "      border: none;\n",
              "      border-radius: 50%;\n",
              "      cursor: pointer;\n",
              "      display: none;\n",
              "      fill: #1967D2;\n",
              "      height: 32px;\n",
              "      padding: 0 0 0 0;\n",
              "      width: 32px;\n",
              "    }\n",
              "\n",
              "    .colab-df-convert:hover {\n",
              "      background-color: #E2EBFA;\n",
              "      box-shadow: 0px 1px 2px rgba(60, 64, 67, 0.3), 0px 1px 3px 1px rgba(60, 64, 67, 0.15);\n",
              "      fill: #174EA6;\n",
              "    }\n",
              "\n",
              "    [theme=dark] .colab-df-convert {\n",
              "      background-color: #3B4455;\n",
              "      fill: #D2E3FC;\n",
              "    }\n",
              "\n",
              "    [theme=dark] .colab-df-convert:hover {\n",
              "      background-color: #434B5C;\n",
              "      box-shadow: 0px 1px 3px 1px rgba(0, 0, 0, 0.15);\n",
              "      filter: drop-shadow(0px 1px 2px rgba(0, 0, 0, 0.3));\n",
              "      fill: #FFFFFF;\n",
              "    }\n",
              "  </style>\n",
              "\n",
              "      <script>\n",
              "        const buttonEl =\n",
              "          document.querySelector('#df-ce95fff4-050b-4910-85b4-ed52d024f6da button.colab-df-convert');\n",
              "        buttonEl.style.display =\n",
              "          google.colab.kernel.accessAllowed ? 'block' : 'none';\n",
              "\n",
              "        async function convertToInteractive(key) {\n",
              "          const element = document.querySelector('#df-ce95fff4-050b-4910-85b4-ed52d024f6da');\n",
              "          const dataTable =\n",
              "            await google.colab.kernel.invokeFunction('convertToInteractive',\n",
              "                                                     [key], {});\n",
              "          if (!dataTable) return;\n",
              "\n",
              "          const docLinkHtml = 'Like what you see? Visit the ' +\n",
              "            '<a target=\"_blank\" href=https://colab.research.google.com/notebooks/data_table.ipynb>data table notebook</a>'\n",
              "            + ' to learn more about interactive tables.';\n",
              "          element.innerHTML = '';\n",
              "          dataTable['output_type'] = 'display_data';\n",
              "          await google.colab.output.renderOutput(dataTable, element);\n",
              "          const docLink = document.createElement('div');\n",
              "          docLink.innerHTML = docLinkHtml;\n",
              "          element.appendChild(docLink);\n",
              "        }\n",
              "      </script>\n",
              "    </div>\n",
              "  </div>\n",
              "  "
            ]
          },
          "metadata": {},
          "execution_count": 17
        }
      ]
    },
    {
      "cell_type": "code",
      "source": [
        "credit_card_data.tail()"
      ],
      "metadata": {
        "colab": {
          "base_uri": "https://localhost:8080/",
          "height": 300
        },
        "id": "Cc9f0Q8yML-B",
        "outputId": "c76d673a-5d23-4494-a8df-f40adedc2b1d"
      },
      "execution_count": 18,
      "outputs": [
        {
          "output_type": "execute_result",
          "data": {
            "text/plain": [
              "      Time        V1        V2        V3        V4        V5        V6  \\\n",
              "3968  3617  1.134592  0.252051  0.488592  0.799826 -0.264819 -0.369918   \n",
              "3969  3621 -1.338671  1.080974  1.291196  0.719258  0.101320  0.053896   \n",
              "3970  3622 -0.339728 -2.417449  0.975517  2.537995 -1.720361  0.863005   \n",
              "3971  3623 -0.368639  0.947432  1.707755  0.932092  0.292956  0.189100   \n",
              "3972  3624 -0.663445  1.162921  1.508050  0.549405  0.231377 -0.106041   \n",
              "\n",
              "            V7        V8        V9  ...       V21       V22       V23  \\\n",
              "3968 -0.243365  0.049761  1.210818  ... -0.351115 -0.851463  0.186169   \n",
              "3969  0.001297 -0.917575  1.638510  ...  0.498030 -0.483932  0.037686   \n",
              "3970  0.032965  0.026764  2.487139  ...  0.391639  0.264432 -0.735031   \n",
              "3971  0.499330  0.132466  0.779412  ... -0.119045  0.056665 -0.172703   \n",
              "3972  0.817977 -0.387026  1.488054  ... -0.420337 -0.361357       NaN   \n",
              "\n",
              "           V24       V25       V26       V27       V28  Amount  Class  \n",
              "3968  0.092463  0.020015  0.057976 -0.046611  0.012562   13.99    0.0  \n",
              "3969  0.053566 -0.560078  0.230423 -0.119911  0.321847   27.43    0.0  \n",
              "3970  0.450594  0.310022 -0.231357 -0.049872  0.153526  730.32    0.0  \n",
              "3971  0.170073  0.139605 -0.420518  0.033794  0.005996    6.87    0.0  \n",
              "3972       NaN       NaN       NaN       NaN       NaN     NaN    NaN  \n",
              "\n",
              "[5 rows x 31 columns]"
            ],
            "text/html": [
              "\n",
              "  <div id=\"df-faaac9f5-ef21-4c5f-a24e-a4f7d2713c48\">\n",
              "    <div class=\"colab-df-container\">\n",
              "      <div>\n",
              "<style scoped>\n",
              "    .dataframe tbody tr th:only-of-type {\n",
              "        vertical-align: middle;\n",
              "    }\n",
              "\n",
              "    .dataframe tbody tr th {\n",
              "        vertical-align: top;\n",
              "    }\n",
              "\n",
              "    .dataframe thead th {\n",
              "        text-align: right;\n",
              "    }\n",
              "</style>\n",
              "<table border=\"1\" class=\"dataframe\">\n",
              "  <thead>\n",
              "    <tr style=\"text-align: right;\">\n",
              "      <th></th>\n",
              "      <th>Time</th>\n",
              "      <th>V1</th>\n",
              "      <th>V2</th>\n",
              "      <th>V3</th>\n",
              "      <th>V4</th>\n",
              "      <th>V5</th>\n",
              "      <th>V6</th>\n",
              "      <th>V7</th>\n",
              "      <th>V8</th>\n",
              "      <th>V9</th>\n",
              "      <th>...</th>\n",
              "      <th>V21</th>\n",
              "      <th>V22</th>\n",
              "      <th>V23</th>\n",
              "      <th>V24</th>\n",
              "      <th>V25</th>\n",
              "      <th>V26</th>\n",
              "      <th>V27</th>\n",
              "      <th>V28</th>\n",
              "      <th>Amount</th>\n",
              "      <th>Class</th>\n",
              "    </tr>\n",
              "  </thead>\n",
              "  <tbody>\n",
              "    <tr>\n",
              "      <th>3968</th>\n",
              "      <td>3617</td>\n",
              "      <td>1.134592</td>\n",
              "      <td>0.252051</td>\n",
              "      <td>0.488592</td>\n",
              "      <td>0.799826</td>\n",
              "      <td>-0.264819</td>\n",
              "      <td>-0.369918</td>\n",
              "      <td>-0.243365</td>\n",
              "      <td>0.049761</td>\n",
              "      <td>1.210818</td>\n",
              "      <td>...</td>\n",
              "      <td>-0.351115</td>\n",
              "      <td>-0.851463</td>\n",
              "      <td>0.186169</td>\n",
              "      <td>0.092463</td>\n",
              "      <td>0.020015</td>\n",
              "      <td>0.057976</td>\n",
              "      <td>-0.046611</td>\n",
              "      <td>0.012562</td>\n",
              "      <td>13.99</td>\n",
              "      <td>0.0</td>\n",
              "    </tr>\n",
              "    <tr>\n",
              "      <th>3969</th>\n",
              "      <td>3621</td>\n",
              "      <td>-1.338671</td>\n",
              "      <td>1.080974</td>\n",
              "      <td>1.291196</td>\n",
              "      <td>0.719258</td>\n",
              "      <td>0.101320</td>\n",
              "      <td>0.053896</td>\n",
              "      <td>0.001297</td>\n",
              "      <td>-0.917575</td>\n",
              "      <td>1.638510</td>\n",
              "      <td>...</td>\n",
              "      <td>0.498030</td>\n",
              "      <td>-0.483932</td>\n",
              "      <td>0.037686</td>\n",
              "      <td>0.053566</td>\n",
              "      <td>-0.560078</td>\n",
              "      <td>0.230423</td>\n",
              "      <td>-0.119911</td>\n",
              "      <td>0.321847</td>\n",
              "      <td>27.43</td>\n",
              "      <td>0.0</td>\n",
              "    </tr>\n",
              "    <tr>\n",
              "      <th>3970</th>\n",
              "      <td>3622</td>\n",
              "      <td>-0.339728</td>\n",
              "      <td>-2.417449</td>\n",
              "      <td>0.975517</td>\n",
              "      <td>2.537995</td>\n",
              "      <td>-1.720361</td>\n",
              "      <td>0.863005</td>\n",
              "      <td>0.032965</td>\n",
              "      <td>0.026764</td>\n",
              "      <td>2.487139</td>\n",
              "      <td>...</td>\n",
              "      <td>0.391639</td>\n",
              "      <td>0.264432</td>\n",
              "      <td>-0.735031</td>\n",
              "      <td>0.450594</td>\n",
              "      <td>0.310022</td>\n",
              "      <td>-0.231357</td>\n",
              "      <td>-0.049872</td>\n",
              "      <td>0.153526</td>\n",
              "      <td>730.32</td>\n",
              "      <td>0.0</td>\n",
              "    </tr>\n",
              "    <tr>\n",
              "      <th>3971</th>\n",
              "      <td>3623</td>\n",
              "      <td>-0.368639</td>\n",
              "      <td>0.947432</td>\n",
              "      <td>1.707755</td>\n",
              "      <td>0.932092</td>\n",
              "      <td>0.292956</td>\n",
              "      <td>0.189100</td>\n",
              "      <td>0.499330</td>\n",
              "      <td>0.132466</td>\n",
              "      <td>0.779412</td>\n",
              "      <td>...</td>\n",
              "      <td>-0.119045</td>\n",
              "      <td>0.056665</td>\n",
              "      <td>-0.172703</td>\n",
              "      <td>0.170073</td>\n",
              "      <td>0.139605</td>\n",
              "      <td>-0.420518</td>\n",
              "      <td>0.033794</td>\n",
              "      <td>0.005996</td>\n",
              "      <td>6.87</td>\n",
              "      <td>0.0</td>\n",
              "    </tr>\n",
              "    <tr>\n",
              "      <th>3972</th>\n",
              "      <td>3624</td>\n",
              "      <td>-0.663445</td>\n",
              "      <td>1.162921</td>\n",
              "      <td>1.508050</td>\n",
              "      <td>0.549405</td>\n",
              "      <td>0.231377</td>\n",
              "      <td>-0.106041</td>\n",
              "      <td>0.817977</td>\n",
              "      <td>-0.387026</td>\n",
              "      <td>1.488054</td>\n",
              "      <td>...</td>\n",
              "      <td>-0.420337</td>\n",
              "      <td>-0.361357</td>\n",
              "      <td>NaN</td>\n",
              "      <td>NaN</td>\n",
              "      <td>NaN</td>\n",
              "      <td>NaN</td>\n",
              "      <td>NaN</td>\n",
              "      <td>NaN</td>\n",
              "      <td>NaN</td>\n",
              "      <td>NaN</td>\n",
              "    </tr>\n",
              "  </tbody>\n",
              "</table>\n",
              "<p>5 rows × 31 columns</p>\n",
              "</div>\n",
              "      <button class=\"colab-df-convert\" onclick=\"convertToInteractive('df-faaac9f5-ef21-4c5f-a24e-a4f7d2713c48')\"\n",
              "              title=\"Convert this dataframe to an interactive table.\"\n",
              "              style=\"display:none;\">\n",
              "        \n",
              "  <svg xmlns=\"http://www.w3.org/2000/svg\" height=\"24px\"viewBox=\"0 0 24 24\"\n",
              "       width=\"24px\">\n",
              "    <path d=\"M0 0h24v24H0V0z\" fill=\"none\"/>\n",
              "    <path d=\"M18.56 5.44l.94 2.06.94-2.06 2.06-.94-2.06-.94-.94-2.06-.94 2.06-2.06.94zm-11 1L8.5 8.5l.94-2.06 2.06-.94-2.06-.94L8.5 2.5l-.94 2.06-2.06.94zm10 10l.94 2.06.94-2.06 2.06-.94-2.06-.94-.94-2.06-.94 2.06-2.06.94z\"/><path d=\"M17.41 7.96l-1.37-1.37c-.4-.4-.92-.59-1.43-.59-.52 0-1.04.2-1.43.59L10.3 9.45l-7.72 7.72c-.78.78-.78 2.05 0 2.83L4 21.41c.39.39.9.59 1.41.59.51 0 1.02-.2 1.41-.59l7.78-7.78 2.81-2.81c.8-.78.8-2.07 0-2.86zM5.41 20L4 18.59l7.72-7.72 1.47 1.35L5.41 20z\"/>\n",
              "  </svg>\n",
              "      </button>\n",
              "      \n",
              "  <style>\n",
              "    .colab-df-container {\n",
              "      display:flex;\n",
              "      flex-wrap:wrap;\n",
              "      gap: 12px;\n",
              "    }\n",
              "\n",
              "    .colab-df-convert {\n",
              "      background-color: #E8F0FE;\n",
              "      border: none;\n",
              "      border-radius: 50%;\n",
              "      cursor: pointer;\n",
              "      display: none;\n",
              "      fill: #1967D2;\n",
              "      height: 32px;\n",
              "      padding: 0 0 0 0;\n",
              "      width: 32px;\n",
              "    }\n",
              "\n",
              "    .colab-df-convert:hover {\n",
              "      background-color: #E2EBFA;\n",
              "      box-shadow: 0px 1px 2px rgba(60, 64, 67, 0.3), 0px 1px 3px 1px rgba(60, 64, 67, 0.15);\n",
              "      fill: #174EA6;\n",
              "    }\n",
              "\n",
              "    [theme=dark] .colab-df-convert {\n",
              "      background-color: #3B4455;\n",
              "      fill: #D2E3FC;\n",
              "    }\n",
              "\n",
              "    [theme=dark] .colab-df-convert:hover {\n",
              "      background-color: #434B5C;\n",
              "      box-shadow: 0px 1px 3px 1px rgba(0, 0, 0, 0.15);\n",
              "      filter: drop-shadow(0px 1px 2px rgba(0, 0, 0, 0.3));\n",
              "      fill: #FFFFFF;\n",
              "    }\n",
              "  </style>\n",
              "\n",
              "      <script>\n",
              "        const buttonEl =\n",
              "          document.querySelector('#df-faaac9f5-ef21-4c5f-a24e-a4f7d2713c48 button.colab-df-convert');\n",
              "        buttonEl.style.display =\n",
              "          google.colab.kernel.accessAllowed ? 'block' : 'none';\n",
              "\n",
              "        async function convertToInteractive(key) {\n",
              "          const element = document.querySelector('#df-faaac9f5-ef21-4c5f-a24e-a4f7d2713c48');\n",
              "          const dataTable =\n",
              "            await google.colab.kernel.invokeFunction('convertToInteractive',\n",
              "                                                     [key], {});\n",
              "          if (!dataTable) return;\n",
              "\n",
              "          const docLinkHtml = 'Like what you see? Visit the ' +\n",
              "            '<a target=\"_blank\" href=https://colab.research.google.com/notebooks/data_table.ipynb>data table notebook</a>'\n",
              "            + ' to learn more about interactive tables.';\n",
              "          element.innerHTML = '';\n",
              "          dataTable['output_type'] = 'display_data';\n",
              "          await google.colab.output.renderOutput(dataTable, element);\n",
              "          const docLink = document.createElement('div');\n",
              "          docLink.innerHTML = docLinkHtml;\n",
              "          element.appendChild(docLink);\n",
              "        }\n",
              "      </script>\n",
              "    </div>\n",
              "  </div>\n",
              "  "
            ]
          },
          "metadata": {},
          "execution_count": 18
        }
      ]
    },
    {
      "cell_type": "code",
      "source": [
        "# dataset information\n",
        "credit_card_data.info()"
      ],
      "metadata": {
        "colab": {
          "base_uri": "https://localhost:8080/"
        },
        "id": "rVJnnde6MsZ-",
        "outputId": "351e1063-ea58-4be5-b485-dacbfc51ccc8"
      },
      "execution_count": 20,
      "outputs": [
        {
          "output_type": "stream",
          "name": "stdout",
          "text": [
            "<class 'pandas.core.frame.DataFrame'>\n",
            "RangeIndex: 3973 entries, 0 to 3972\n",
            "Data columns (total 31 columns):\n",
            " #   Column  Non-Null Count  Dtype  \n",
            "---  ------  --------------  -----  \n",
            " 0   Time    3973 non-null   int64  \n",
            " 1   V1      3973 non-null   float64\n",
            " 2   V2      3973 non-null   float64\n",
            " 3   V3      3973 non-null   float64\n",
            " 4   V4      3973 non-null   float64\n",
            " 5   V5      3973 non-null   float64\n",
            " 6   V6      3973 non-null   float64\n",
            " 7   V7      3973 non-null   float64\n",
            " 8   V8      3973 non-null   float64\n",
            " 9   V9      3973 non-null   float64\n",
            " 10  V10     3973 non-null   float64\n",
            " 11  V11     3973 non-null   float64\n",
            " 12  V12     3973 non-null   float64\n",
            " 13  V13     3973 non-null   float64\n",
            " 14  V14     3973 non-null   float64\n",
            " 15  V15     3973 non-null   float64\n",
            " 16  V16     3973 non-null   float64\n",
            " 17  V17     3973 non-null   float64\n",
            " 18  V18     3973 non-null   float64\n",
            " 19  V19     3973 non-null   float64\n",
            " 20  V20     3973 non-null   float64\n",
            " 21  V21     3973 non-null   float64\n",
            " 22  V22     3973 non-null   float64\n",
            " 23  V23     3972 non-null   float64\n",
            " 24  V24     3972 non-null   float64\n",
            " 25  V25     3972 non-null   float64\n",
            " 26  V26     3972 non-null   float64\n",
            " 27  V27     3972 non-null   float64\n",
            " 28  V28     3972 non-null   float64\n",
            " 29  Amount  3972 non-null   float64\n",
            " 30  Class   3972 non-null   float64\n",
            "dtypes: float64(30), int64(1)\n",
            "memory usage: 962.3 KB\n"
          ]
        }
      ]
    },
    {
      "cell_type": "code",
      "source": [
        "#checking number of missing values in each column\n",
        "credit_card_data.isnull().sum()"
      ],
      "metadata": {
        "colab": {
          "base_uri": "https://localhost:8080/"
        },
        "id": "pxHy333zM-sL",
        "outputId": "a3c2e631-938b-49ca-9171-7f050bc74f12"
      },
      "execution_count": 21,
      "outputs": [
        {
          "output_type": "execute_result",
          "data": {
            "text/plain": [
              "Time      0\n",
              "V1        0\n",
              "V2        0\n",
              "V3        0\n",
              "V4        0\n",
              "V5        0\n",
              "V6        0\n",
              "V7        0\n",
              "V8        0\n",
              "V9        0\n",
              "V10       0\n",
              "V11       0\n",
              "V12       0\n",
              "V13       0\n",
              "V14       0\n",
              "V15       0\n",
              "V16       0\n",
              "V17       0\n",
              "V18       0\n",
              "V19       0\n",
              "V20       0\n",
              "V21       0\n",
              "V22       0\n",
              "V23       1\n",
              "V24       1\n",
              "V25       1\n",
              "V26       1\n",
              "V27       1\n",
              "V28       1\n",
              "Amount    1\n",
              "Class     1\n",
              "dtype: int64"
            ]
          },
          "metadata": {},
          "execution_count": 21
        }
      ]
    },
    {
      "cell_type": "code",
      "source": [
        "# distribution of legit transactions & fraudulent transactions\n",
        "credit_card_data['Class'].value_counts()"
      ],
      "metadata": {
        "colab": {
          "base_uri": "https://localhost:8080/"
        },
        "id": "M8kfV4gPNV2r",
        "outputId": "0b34d01d-f1d9-4ba1-cdfe-ad35205811d8"
      },
      "execution_count": 22,
      "outputs": [
        {
          "output_type": "execute_result",
          "data": {
            "text/plain": [
              "0.0    3970\n",
              "1.0       2\n",
              "Name: Class, dtype: int64"
            ]
          },
          "metadata": {},
          "execution_count": 22
        }
      ]
    },
    {
      "cell_type": "markdown",
      "source": [
        "This Dataset is highly unbalanced"
      ],
      "metadata": {
        "id": "lDisiUPGOO-s"
      }
    },
    {
      "cell_type": "markdown",
      "source": [
        "0 --> Normal Transactions\n",
        "\n",
        "1 --> Fraudulent Transactions"
      ],
      "metadata": {
        "id": "aKLr6kEGOb-w"
      }
    },
    {
      "cell_type": "code",
      "source": [
        "# separating data for analysis\n",
        "legit = credit_card_data[credit_card_data.Class == 0]\n",
        "fraud = credit_card_data[credit_card_data.Class == 1]"
      ],
      "metadata": {
        "id": "7Km1-XE0N55P"
      },
      "execution_count": 23,
      "outputs": []
    },
    {
      "cell_type": "code",
      "source": [
        "print(legit.shape)\n",
        "print(fraud.shape)"
      ],
      "metadata": {
        "colab": {
          "base_uri": "https://localhost:8080/"
        },
        "id": "HLaYOqNWPQtd",
        "outputId": "a6d11bba-55d3-4977-d7da-da306bedb7bf"
      },
      "execution_count": 24,
      "outputs": [
        {
          "output_type": "stream",
          "name": "stdout",
          "text": [
            "(3970, 31)\n",
            "(2, 31)\n"
          ]
        }
      ]
    },
    {
      "cell_type": "code",
      "source": [
        "# statistical measures of the data\n",
        "legit.Amount.describe()"
      ],
      "metadata": {
        "colab": {
          "base_uri": "https://localhost:8080/"
        },
        "id": "TMgoav_qPcuS",
        "outputId": "608e3b69-b770-4750-caf7-62a9b8d1c406"
      },
      "execution_count": 25,
      "outputs": [
        {
          "output_type": "execute_result",
          "data": {
            "text/plain": [
              "count    3970.000000\n",
              "mean       64.899597\n",
              "std       213.612570\n",
              "min         0.000000\n",
              "25%         2.270000\n",
              "50%        12.990000\n",
              "75%        54.990000\n",
              "max      7712.430000\n",
              "Name: Amount, dtype: float64"
            ]
          },
          "metadata": {},
          "execution_count": 25
        }
      ]
    },
    {
      "cell_type": "code",
      "source": [
        "fraud.Amount.describe()"
      ],
      "metadata": {
        "colab": {
          "base_uri": "https://localhost:8080/"
        },
        "id": "0-FJKCiPP3F0",
        "outputId": "2e8853f5-5160-43ff-f408-f2623111af4c"
      },
      "execution_count": 26,
      "outputs": [
        {
          "output_type": "execute_result",
          "data": {
            "text/plain": [
              "count      2.000000\n",
              "mean     264.500000\n",
              "std      374.059487\n",
              "min        0.000000\n",
              "25%      132.250000\n",
              "50%      264.500000\n",
              "75%      396.750000\n",
              "max      529.000000\n",
              "Name: Amount, dtype: float64"
            ]
          },
          "metadata": {},
          "execution_count": 26
        }
      ]
    },
    {
      "cell_type": "code",
      "source": [
        "# compare the values for both transactions\n",
        "credit_card_data.groupby('Class').mean()"
      ],
      "metadata": {
        "colab": {
          "base_uri": "https://localhost:8080/",
          "height": 237
        },
        "id": "Kuz7A_UoQIp7",
        "outputId": "74e2e7b6-3c26-4997-c171-89d314a47d18"
      },
      "execution_count": 27,
      "outputs": [
        {
          "output_type": "execute_result",
          "data": {
            "text/plain": [
              "              Time        V1        V2        V3        V4        V5  \\\n",
              "Class                                                                  \n",
              "0.0    1638.828463 -0.332459  0.308935  0.837446  0.011432 -0.029468   \n",
              "1.0     439.000000 -2.677884 -0.602658 -0.260694  3.143275  0.418809   \n",
              "\n",
              "             V6        V7        V8        V9  ...       V20       V21  \\\n",
              "Class                                          ...                       \n",
              "0.0    0.053530  0.147357 -0.071642  0.056211  ...  0.059567  0.010282   \n",
              "1.0   -1.245684 -1.105907  0.661932 -1.520521  ...  1.114625  0.589464   \n",
              "\n",
              "            V22       V23       V24       V25       V26       V27       V28  \\\n",
              "Class                                                                         \n",
              "0.0   -0.082957 -0.058743  0.029114  0.095244 -0.012637  0.044658  0.002668   \n",
              "1.0    0.200214  0.455377  0.013198  0.162159  0.016239  0.004186 -0.053756   \n",
              "\n",
              "           Amount  \n",
              "Class              \n",
              "0.0     64.899597  \n",
              "1.0    264.500000  \n",
              "\n",
              "[2 rows x 30 columns]"
            ],
            "text/html": [
              "\n",
              "  <div id=\"df-356052d6-20c5-435c-8eee-95046d4ab643\">\n",
              "    <div class=\"colab-df-container\">\n",
              "      <div>\n",
              "<style scoped>\n",
              "    .dataframe tbody tr th:only-of-type {\n",
              "        vertical-align: middle;\n",
              "    }\n",
              "\n",
              "    .dataframe tbody tr th {\n",
              "        vertical-align: top;\n",
              "    }\n",
              "\n",
              "    .dataframe thead th {\n",
              "        text-align: right;\n",
              "    }\n",
              "</style>\n",
              "<table border=\"1\" class=\"dataframe\">\n",
              "  <thead>\n",
              "    <tr style=\"text-align: right;\">\n",
              "      <th></th>\n",
              "      <th>Time</th>\n",
              "      <th>V1</th>\n",
              "      <th>V2</th>\n",
              "      <th>V3</th>\n",
              "      <th>V4</th>\n",
              "      <th>V5</th>\n",
              "      <th>V6</th>\n",
              "      <th>V7</th>\n",
              "      <th>V8</th>\n",
              "      <th>V9</th>\n",
              "      <th>...</th>\n",
              "      <th>V20</th>\n",
              "      <th>V21</th>\n",
              "      <th>V22</th>\n",
              "      <th>V23</th>\n",
              "      <th>V24</th>\n",
              "      <th>V25</th>\n",
              "      <th>V26</th>\n",
              "      <th>V27</th>\n",
              "      <th>V28</th>\n",
              "      <th>Amount</th>\n",
              "    </tr>\n",
              "    <tr>\n",
              "      <th>Class</th>\n",
              "      <th></th>\n",
              "      <th></th>\n",
              "      <th></th>\n",
              "      <th></th>\n",
              "      <th></th>\n",
              "      <th></th>\n",
              "      <th></th>\n",
              "      <th></th>\n",
              "      <th></th>\n",
              "      <th></th>\n",
              "      <th></th>\n",
              "      <th></th>\n",
              "      <th></th>\n",
              "      <th></th>\n",
              "      <th></th>\n",
              "      <th></th>\n",
              "      <th></th>\n",
              "      <th></th>\n",
              "      <th></th>\n",
              "      <th></th>\n",
              "      <th></th>\n",
              "    </tr>\n",
              "  </thead>\n",
              "  <tbody>\n",
              "    <tr>\n",
              "      <th>0.0</th>\n",
              "      <td>1638.828463</td>\n",
              "      <td>-0.332459</td>\n",
              "      <td>0.308935</td>\n",
              "      <td>0.837446</td>\n",
              "      <td>0.011432</td>\n",
              "      <td>-0.029468</td>\n",
              "      <td>0.053530</td>\n",
              "      <td>0.147357</td>\n",
              "      <td>-0.071642</td>\n",
              "      <td>0.056211</td>\n",
              "      <td>...</td>\n",
              "      <td>0.059567</td>\n",
              "      <td>0.010282</td>\n",
              "      <td>-0.082957</td>\n",
              "      <td>-0.058743</td>\n",
              "      <td>0.029114</td>\n",
              "      <td>0.095244</td>\n",
              "      <td>-0.012637</td>\n",
              "      <td>0.044658</td>\n",
              "      <td>0.002668</td>\n",
              "      <td>64.899597</td>\n",
              "    </tr>\n",
              "    <tr>\n",
              "      <th>1.0</th>\n",
              "      <td>439.000000</td>\n",
              "      <td>-2.677884</td>\n",
              "      <td>-0.602658</td>\n",
              "      <td>-0.260694</td>\n",
              "      <td>3.143275</td>\n",
              "      <td>0.418809</td>\n",
              "      <td>-1.245684</td>\n",
              "      <td>-1.105907</td>\n",
              "      <td>0.661932</td>\n",
              "      <td>-1.520521</td>\n",
              "      <td>...</td>\n",
              "      <td>1.114625</td>\n",
              "      <td>0.589464</td>\n",
              "      <td>0.200214</td>\n",
              "      <td>0.455377</td>\n",
              "      <td>0.013198</td>\n",
              "      <td>0.162159</td>\n",
              "      <td>0.016239</td>\n",
              "      <td>0.004186</td>\n",
              "      <td>-0.053756</td>\n",
              "      <td>264.500000</td>\n",
              "    </tr>\n",
              "  </tbody>\n",
              "</table>\n",
              "<p>2 rows × 30 columns</p>\n",
              "</div>\n",
              "      <button class=\"colab-df-convert\" onclick=\"convertToInteractive('df-356052d6-20c5-435c-8eee-95046d4ab643')\"\n",
              "              title=\"Convert this dataframe to an interactive table.\"\n",
              "              style=\"display:none;\">\n",
              "        \n",
              "  <svg xmlns=\"http://www.w3.org/2000/svg\" height=\"24px\"viewBox=\"0 0 24 24\"\n",
              "       width=\"24px\">\n",
              "    <path d=\"M0 0h24v24H0V0z\" fill=\"none\"/>\n",
              "    <path d=\"M18.56 5.44l.94 2.06.94-2.06 2.06-.94-2.06-.94-.94-2.06-.94 2.06-2.06.94zm-11 1L8.5 8.5l.94-2.06 2.06-.94-2.06-.94L8.5 2.5l-.94 2.06-2.06.94zm10 10l.94 2.06.94-2.06 2.06-.94-2.06-.94-.94-2.06-.94 2.06-2.06.94z\"/><path d=\"M17.41 7.96l-1.37-1.37c-.4-.4-.92-.59-1.43-.59-.52 0-1.04.2-1.43.59L10.3 9.45l-7.72 7.72c-.78.78-.78 2.05 0 2.83L4 21.41c.39.39.9.59 1.41.59.51 0 1.02-.2 1.41-.59l7.78-7.78 2.81-2.81c.8-.78.8-2.07 0-2.86zM5.41 20L4 18.59l7.72-7.72 1.47 1.35L5.41 20z\"/>\n",
              "  </svg>\n",
              "      </button>\n",
              "      \n",
              "  <style>\n",
              "    .colab-df-container {\n",
              "      display:flex;\n",
              "      flex-wrap:wrap;\n",
              "      gap: 12px;\n",
              "    }\n",
              "\n",
              "    .colab-df-convert {\n",
              "      background-color: #E8F0FE;\n",
              "      border: none;\n",
              "      border-radius: 50%;\n",
              "      cursor: pointer;\n",
              "      display: none;\n",
              "      fill: #1967D2;\n",
              "      height: 32px;\n",
              "      padding: 0 0 0 0;\n",
              "      width: 32px;\n",
              "    }\n",
              "\n",
              "    .colab-df-convert:hover {\n",
              "      background-color: #E2EBFA;\n",
              "      box-shadow: 0px 1px 2px rgba(60, 64, 67, 0.3), 0px 1px 3px 1px rgba(60, 64, 67, 0.15);\n",
              "      fill: #174EA6;\n",
              "    }\n",
              "\n",
              "    [theme=dark] .colab-df-convert {\n",
              "      background-color: #3B4455;\n",
              "      fill: #D2E3FC;\n",
              "    }\n",
              "\n",
              "    [theme=dark] .colab-df-convert:hover {\n",
              "      background-color: #434B5C;\n",
              "      box-shadow: 0px 1px 3px 1px rgba(0, 0, 0, 0.15);\n",
              "      filter: drop-shadow(0px 1px 2px rgba(0, 0, 0, 0.3));\n",
              "      fill: #FFFFFF;\n",
              "    }\n",
              "  </style>\n",
              "\n",
              "      <script>\n",
              "        const buttonEl =\n",
              "          document.querySelector('#df-356052d6-20c5-435c-8eee-95046d4ab643 button.colab-df-convert');\n",
              "        buttonEl.style.display =\n",
              "          google.colab.kernel.accessAllowed ? 'block' : 'none';\n",
              "\n",
              "        async function convertToInteractive(key) {\n",
              "          const element = document.querySelector('#df-356052d6-20c5-435c-8eee-95046d4ab643');\n",
              "          const dataTable =\n",
              "            await google.colab.kernel.invokeFunction('convertToInteractive',\n",
              "                                                     [key], {});\n",
              "          if (!dataTable) return;\n",
              "\n",
              "          const docLinkHtml = 'Like what you see? Visit the ' +\n",
              "            '<a target=\"_blank\" href=https://colab.research.google.com/notebooks/data_table.ipynb>data table notebook</a>'\n",
              "            + ' to learn more about interactive tables.';\n",
              "          element.innerHTML = '';\n",
              "          dataTable['output_type'] = 'display_data';\n",
              "          await google.colab.output.renderOutput(dataTable, element);\n",
              "          const docLink = document.createElement('div');\n",
              "          docLink.innerHTML = docLinkHtml;\n",
              "          element.appendChild(docLink);\n",
              "        }\n",
              "      </script>\n",
              "    </div>\n",
              "  </div>\n",
              "  "
            ]
          },
          "metadata": {},
          "execution_count": 27
        }
      ]
    },
    {
      "cell_type": "markdown",
      "source": [
        "Under Sampling"
      ],
      "metadata": {
        "id": "knD6VJxiQ4oY"
      }
    },
    {
      "cell_type": "markdown",
      "source": [
        "Build a sample dataset containing similar distribution of normal transaction and fraudulent transaction"
      ],
      "metadata": {
        "id": "YPcsROPPQ99h"
      }
    },
    {
      "cell_type": "markdown",
      "source": [
        "Number of Fraudulent transaction --> 163"
      ],
      "metadata": {
        "id": "pwNM5_FSRU-Y"
      }
    },
    {
      "cell_type": "code",
      "source": [
        "legit_sample = legit.sample(n=163)"
      ],
      "metadata": {
        "id": "VqdilUwZQiVs"
      },
      "execution_count": 28,
      "outputs": []
    },
    {
      "cell_type": "markdown",
      "source": [
        "Concatenating two Dataframes"
      ],
      "metadata": {
        "id": "Os--pEgwR498"
      }
    },
    {
      "cell_type": "code",
      "source": [
        "new_dataset = pd.concat([legit_sample, fraud], axis = 0)"
      ],
      "metadata": {
        "id": "i0uPqoJnR2fy"
      },
      "execution_count": 29,
      "outputs": []
    },
    {
      "cell_type": "code",
      "source": [
        "new_dataset.head()"
      ],
      "metadata": {
        "colab": {
          "base_uri": "https://localhost:8080/",
          "height": 300
        },
        "id": "EiNgqRyGVaUA",
        "outputId": "23dfdd58-7c8d-499f-bce2-8deb0bfa8b6d"
      },
      "execution_count": 30,
      "outputs": [
        {
          "output_type": "execute_result",
          "data": {
            "text/plain": [
              "      Time        V1        V2        V3        V4        V5        V6  \\\n",
              "3153  2729 -1.753325  1.206679  2.113332  0.800421 -0.129349  0.038541   \n",
              "1645  1271 -3.438617 -2.357982  0.307655  1.007622  1.742124 -0.198183   \n",
              "2208  1732 -1.281371  0.364319  1.215915  0.756683  0.964225 -0.888641   \n",
              "2124  1634  1.075019 -0.257287  1.195543  1.735827 -0.822148  0.570728   \n",
              "2704  2243  1.226045 -0.022482  0.506098  0.855552 -0.672954 -0.741619   \n",
              "\n",
              "            V7        V8        V9  ...       V21       V22       V23  \\\n",
              "3153  0.747522 -1.025204  1.517721  ...  0.148641  0.944147 -0.228204   \n",
              "1645  0.527978 -0.031639  0.632235  ... -0.502215  0.748089  2.191321   \n",
              "2208 -0.004815 -0.033648 -0.378299  ... -0.194113 -0.373185 -0.000018   \n",
              "2124 -0.617130  0.356204  1.443170  ... -0.428928 -0.824378  0.098087   \n",
              "2704 -0.106891 -0.062205  0.662056  ... -0.245534 -0.594098  0.026694   \n",
              "\n",
              "           V24       V25       V26       V27       V28  Amount  Class  \n",
              "3153  0.422821 -0.318327 -0.476384 -2.409573 -0.921618    1.55    0.0  \n",
              "1645 -0.902348  0.369987 -0.426451  0.260854 -0.720549  142.13    0.0  \n",
              "2208  0.074524 -0.668341  0.181969  0.141957  0.370891    2.28    0.0  \n",
              "2124  0.046949  0.382196 -0.505682  0.082644  0.026379   12.61    0.0  \n",
              "2704  0.394406  0.408814  0.272851 -0.031415  0.010616    9.44    0.0  \n",
              "\n",
              "[5 rows x 31 columns]"
            ],
            "text/html": [
              "\n",
              "  <div id=\"df-278d2317-ae7a-4655-a3e3-95d3ff722e2f\">\n",
              "    <div class=\"colab-df-container\">\n",
              "      <div>\n",
              "<style scoped>\n",
              "    .dataframe tbody tr th:only-of-type {\n",
              "        vertical-align: middle;\n",
              "    }\n",
              "\n",
              "    .dataframe tbody tr th {\n",
              "        vertical-align: top;\n",
              "    }\n",
              "\n",
              "    .dataframe thead th {\n",
              "        text-align: right;\n",
              "    }\n",
              "</style>\n",
              "<table border=\"1\" class=\"dataframe\">\n",
              "  <thead>\n",
              "    <tr style=\"text-align: right;\">\n",
              "      <th></th>\n",
              "      <th>Time</th>\n",
              "      <th>V1</th>\n",
              "      <th>V2</th>\n",
              "      <th>V3</th>\n",
              "      <th>V4</th>\n",
              "      <th>V5</th>\n",
              "      <th>V6</th>\n",
              "      <th>V7</th>\n",
              "      <th>V8</th>\n",
              "      <th>V9</th>\n",
              "      <th>...</th>\n",
              "      <th>V21</th>\n",
              "      <th>V22</th>\n",
              "      <th>V23</th>\n",
              "      <th>V24</th>\n",
              "      <th>V25</th>\n",
              "      <th>V26</th>\n",
              "      <th>V27</th>\n",
              "      <th>V28</th>\n",
              "      <th>Amount</th>\n",
              "      <th>Class</th>\n",
              "    </tr>\n",
              "  </thead>\n",
              "  <tbody>\n",
              "    <tr>\n",
              "      <th>3153</th>\n",
              "      <td>2729</td>\n",
              "      <td>-1.753325</td>\n",
              "      <td>1.206679</td>\n",
              "      <td>2.113332</td>\n",
              "      <td>0.800421</td>\n",
              "      <td>-0.129349</td>\n",
              "      <td>0.038541</td>\n",
              "      <td>0.747522</td>\n",
              "      <td>-1.025204</td>\n",
              "      <td>1.517721</td>\n",
              "      <td>...</td>\n",
              "      <td>0.148641</td>\n",
              "      <td>0.944147</td>\n",
              "      <td>-0.228204</td>\n",
              "      <td>0.422821</td>\n",
              "      <td>-0.318327</td>\n",
              "      <td>-0.476384</td>\n",
              "      <td>-2.409573</td>\n",
              "      <td>-0.921618</td>\n",
              "      <td>1.55</td>\n",
              "      <td>0.0</td>\n",
              "    </tr>\n",
              "    <tr>\n",
              "      <th>1645</th>\n",
              "      <td>1271</td>\n",
              "      <td>-3.438617</td>\n",
              "      <td>-2.357982</td>\n",
              "      <td>0.307655</td>\n",
              "      <td>1.007622</td>\n",
              "      <td>1.742124</td>\n",
              "      <td>-0.198183</td>\n",
              "      <td>0.527978</td>\n",
              "      <td>-0.031639</td>\n",
              "      <td>0.632235</td>\n",
              "      <td>...</td>\n",
              "      <td>-0.502215</td>\n",
              "      <td>0.748089</td>\n",
              "      <td>2.191321</td>\n",
              "      <td>-0.902348</td>\n",
              "      <td>0.369987</td>\n",
              "      <td>-0.426451</td>\n",
              "      <td>0.260854</td>\n",
              "      <td>-0.720549</td>\n",
              "      <td>142.13</td>\n",
              "      <td>0.0</td>\n",
              "    </tr>\n",
              "    <tr>\n",
              "      <th>2208</th>\n",
              "      <td>1732</td>\n",
              "      <td>-1.281371</td>\n",
              "      <td>0.364319</td>\n",
              "      <td>1.215915</td>\n",
              "      <td>0.756683</td>\n",
              "      <td>0.964225</td>\n",
              "      <td>-0.888641</td>\n",
              "      <td>-0.004815</td>\n",
              "      <td>-0.033648</td>\n",
              "      <td>-0.378299</td>\n",
              "      <td>...</td>\n",
              "      <td>-0.194113</td>\n",
              "      <td>-0.373185</td>\n",
              "      <td>-0.000018</td>\n",
              "      <td>0.074524</td>\n",
              "      <td>-0.668341</td>\n",
              "      <td>0.181969</td>\n",
              "      <td>0.141957</td>\n",
              "      <td>0.370891</td>\n",
              "      <td>2.28</td>\n",
              "      <td>0.0</td>\n",
              "    </tr>\n",
              "    <tr>\n",
              "      <th>2124</th>\n",
              "      <td>1634</td>\n",
              "      <td>1.075019</td>\n",
              "      <td>-0.257287</td>\n",
              "      <td>1.195543</td>\n",
              "      <td>1.735827</td>\n",
              "      <td>-0.822148</td>\n",
              "      <td>0.570728</td>\n",
              "      <td>-0.617130</td>\n",
              "      <td>0.356204</td>\n",
              "      <td>1.443170</td>\n",
              "      <td>...</td>\n",
              "      <td>-0.428928</td>\n",
              "      <td>-0.824378</td>\n",
              "      <td>0.098087</td>\n",
              "      <td>0.046949</td>\n",
              "      <td>0.382196</td>\n",
              "      <td>-0.505682</td>\n",
              "      <td>0.082644</td>\n",
              "      <td>0.026379</td>\n",
              "      <td>12.61</td>\n",
              "      <td>0.0</td>\n",
              "    </tr>\n",
              "    <tr>\n",
              "      <th>2704</th>\n",
              "      <td>2243</td>\n",
              "      <td>1.226045</td>\n",
              "      <td>-0.022482</td>\n",
              "      <td>0.506098</td>\n",
              "      <td>0.855552</td>\n",
              "      <td>-0.672954</td>\n",
              "      <td>-0.741619</td>\n",
              "      <td>-0.106891</td>\n",
              "      <td>-0.062205</td>\n",
              "      <td>0.662056</td>\n",
              "      <td>...</td>\n",
              "      <td>-0.245534</td>\n",
              "      <td>-0.594098</td>\n",
              "      <td>0.026694</td>\n",
              "      <td>0.394406</td>\n",
              "      <td>0.408814</td>\n",
              "      <td>0.272851</td>\n",
              "      <td>-0.031415</td>\n",
              "      <td>0.010616</td>\n",
              "      <td>9.44</td>\n",
              "      <td>0.0</td>\n",
              "    </tr>\n",
              "  </tbody>\n",
              "</table>\n",
              "<p>5 rows × 31 columns</p>\n",
              "</div>\n",
              "      <button class=\"colab-df-convert\" onclick=\"convertToInteractive('df-278d2317-ae7a-4655-a3e3-95d3ff722e2f')\"\n",
              "              title=\"Convert this dataframe to an interactive table.\"\n",
              "              style=\"display:none;\">\n",
              "        \n",
              "  <svg xmlns=\"http://www.w3.org/2000/svg\" height=\"24px\"viewBox=\"0 0 24 24\"\n",
              "       width=\"24px\">\n",
              "    <path d=\"M0 0h24v24H0V0z\" fill=\"none\"/>\n",
              "    <path d=\"M18.56 5.44l.94 2.06.94-2.06 2.06-.94-2.06-.94-.94-2.06-.94 2.06-2.06.94zm-11 1L8.5 8.5l.94-2.06 2.06-.94-2.06-.94L8.5 2.5l-.94 2.06-2.06.94zm10 10l.94 2.06.94-2.06 2.06-.94-2.06-.94-.94-2.06-.94 2.06-2.06.94z\"/><path d=\"M17.41 7.96l-1.37-1.37c-.4-.4-.92-.59-1.43-.59-.52 0-1.04.2-1.43.59L10.3 9.45l-7.72 7.72c-.78.78-.78 2.05 0 2.83L4 21.41c.39.39.9.59 1.41.59.51 0 1.02-.2 1.41-.59l7.78-7.78 2.81-2.81c.8-.78.8-2.07 0-2.86zM5.41 20L4 18.59l7.72-7.72 1.47 1.35L5.41 20z\"/>\n",
              "  </svg>\n",
              "      </button>\n",
              "      \n",
              "  <style>\n",
              "    .colab-df-container {\n",
              "      display:flex;\n",
              "      flex-wrap:wrap;\n",
              "      gap: 12px;\n",
              "    }\n",
              "\n",
              "    .colab-df-convert {\n",
              "      background-color: #E8F0FE;\n",
              "      border: none;\n",
              "      border-radius: 50%;\n",
              "      cursor: pointer;\n",
              "      display: none;\n",
              "      fill: #1967D2;\n",
              "      height: 32px;\n",
              "      padding: 0 0 0 0;\n",
              "      width: 32px;\n",
              "    }\n",
              "\n",
              "    .colab-df-convert:hover {\n",
              "      background-color: #E2EBFA;\n",
              "      box-shadow: 0px 1px 2px rgba(60, 64, 67, 0.3), 0px 1px 3px 1px rgba(60, 64, 67, 0.15);\n",
              "      fill: #174EA6;\n",
              "    }\n",
              "\n",
              "    [theme=dark] .colab-df-convert {\n",
              "      background-color: #3B4455;\n",
              "      fill: #D2E3FC;\n",
              "    }\n",
              "\n",
              "    [theme=dark] .colab-df-convert:hover {\n",
              "      background-color: #434B5C;\n",
              "      box-shadow: 0px 1px 3px 1px rgba(0, 0, 0, 0.15);\n",
              "      filter: drop-shadow(0px 1px 2px rgba(0, 0, 0, 0.3));\n",
              "      fill: #FFFFFF;\n",
              "    }\n",
              "  </style>\n",
              "\n",
              "      <script>\n",
              "        const buttonEl =\n",
              "          document.querySelector('#df-278d2317-ae7a-4655-a3e3-95d3ff722e2f button.colab-df-convert');\n",
              "        buttonEl.style.display =\n",
              "          google.colab.kernel.accessAllowed ? 'block' : 'none';\n",
              "\n",
              "        async function convertToInteractive(key) {\n",
              "          const element = document.querySelector('#df-278d2317-ae7a-4655-a3e3-95d3ff722e2f');\n",
              "          const dataTable =\n",
              "            await google.colab.kernel.invokeFunction('convertToInteractive',\n",
              "                                                     [key], {});\n",
              "          if (!dataTable) return;\n",
              "\n",
              "          const docLinkHtml = 'Like what you see? Visit the ' +\n",
              "            '<a target=\"_blank\" href=https://colab.research.google.com/notebooks/data_table.ipynb>data table notebook</a>'\n",
              "            + ' to learn more about interactive tables.';\n",
              "          element.innerHTML = '';\n",
              "          dataTable['output_type'] = 'display_data';\n",
              "          await google.colab.output.renderOutput(dataTable, element);\n",
              "          const docLink = document.createElement('div');\n",
              "          docLink.innerHTML = docLinkHtml;\n",
              "          element.appendChild(docLink);\n",
              "        }\n",
              "      </script>\n",
              "    </div>\n",
              "  </div>\n",
              "  "
            ]
          },
          "metadata": {},
          "execution_count": 30
        }
      ]
    },
    {
      "cell_type": "code",
      "source": [
        "new_dataset['Class'].value_counts()"
      ],
      "metadata": {
        "colab": {
          "base_uri": "https://localhost:8080/"
        },
        "id": "S-6mGvh2Vgg_",
        "outputId": "e6bb6410-3e64-4327-9215-b8b7c3e256a5"
      },
      "execution_count": 31,
      "outputs": [
        {
          "output_type": "execute_result",
          "data": {
            "text/plain": [
              "0.0    163\n",
              "1.0      2\n",
              "Name: Class, dtype: int64"
            ]
          },
          "metadata": {},
          "execution_count": 31
        }
      ]
    },
    {
      "cell_type": "code",
      "source": [
        "new_dataset.groupby('Class').mean()"
      ],
      "metadata": {
        "colab": {
          "base_uri": "https://localhost:8080/",
          "height": 237
        },
        "id": "dpjRt65QWAOm",
        "outputId": "989690a4-8e45-4a05-b32e-f4dc1b65e655"
      },
      "execution_count": 32,
      "outputs": [
        {
          "output_type": "execute_result",
          "data": {
            "text/plain": [
              "             Time        V1        V2        V3        V4        V5        V6  \\\n",
              "Class                                                                           \n",
              "0.0    1877.06135 -0.295505  0.263672  0.880475  0.021616 -0.022270  0.009026   \n",
              "1.0     439.00000 -2.677884 -0.602658 -0.260694  3.143275  0.418809 -1.245684   \n",
              "\n",
              "             V7        V8        V9  ...       V20       V21       V22  \\\n",
              "Class                                ...                                 \n",
              "0.0    0.044587 -0.167224  0.096821  ...  0.072262 -0.003123 -0.037994   \n",
              "1.0   -1.105907  0.661932 -1.520521  ...  1.114625  0.589464  0.200214   \n",
              "\n",
              "            V23       V24       V25       V26       V27       V28      Amount  \n",
              "Class                                                                          \n",
              "0.0   -0.014938 -0.019583  0.076903 -0.034510  0.034183  0.002815   54.876564  \n",
              "1.0    0.455377  0.013198  0.162159  0.016239  0.004186 -0.053756  264.500000  \n",
              "\n",
              "[2 rows x 30 columns]"
            ],
            "text/html": [
              "\n",
              "  <div id=\"df-098eabb5-b9ae-4401-b30a-d743ffc11c9e\">\n",
              "    <div class=\"colab-df-container\">\n",
              "      <div>\n",
              "<style scoped>\n",
              "    .dataframe tbody tr th:only-of-type {\n",
              "        vertical-align: middle;\n",
              "    }\n",
              "\n",
              "    .dataframe tbody tr th {\n",
              "        vertical-align: top;\n",
              "    }\n",
              "\n",
              "    .dataframe thead th {\n",
              "        text-align: right;\n",
              "    }\n",
              "</style>\n",
              "<table border=\"1\" class=\"dataframe\">\n",
              "  <thead>\n",
              "    <tr style=\"text-align: right;\">\n",
              "      <th></th>\n",
              "      <th>Time</th>\n",
              "      <th>V1</th>\n",
              "      <th>V2</th>\n",
              "      <th>V3</th>\n",
              "      <th>V4</th>\n",
              "      <th>V5</th>\n",
              "      <th>V6</th>\n",
              "      <th>V7</th>\n",
              "      <th>V8</th>\n",
              "      <th>V9</th>\n",
              "      <th>...</th>\n",
              "      <th>V20</th>\n",
              "      <th>V21</th>\n",
              "      <th>V22</th>\n",
              "      <th>V23</th>\n",
              "      <th>V24</th>\n",
              "      <th>V25</th>\n",
              "      <th>V26</th>\n",
              "      <th>V27</th>\n",
              "      <th>V28</th>\n",
              "      <th>Amount</th>\n",
              "    </tr>\n",
              "    <tr>\n",
              "      <th>Class</th>\n",
              "      <th></th>\n",
              "      <th></th>\n",
              "      <th></th>\n",
              "      <th></th>\n",
              "      <th></th>\n",
              "      <th></th>\n",
              "      <th></th>\n",
              "      <th></th>\n",
              "      <th></th>\n",
              "      <th></th>\n",
              "      <th></th>\n",
              "      <th></th>\n",
              "      <th></th>\n",
              "      <th></th>\n",
              "      <th></th>\n",
              "      <th></th>\n",
              "      <th></th>\n",
              "      <th></th>\n",
              "      <th></th>\n",
              "      <th></th>\n",
              "      <th></th>\n",
              "    </tr>\n",
              "  </thead>\n",
              "  <tbody>\n",
              "    <tr>\n",
              "      <th>0.0</th>\n",
              "      <td>1877.06135</td>\n",
              "      <td>-0.295505</td>\n",
              "      <td>0.263672</td>\n",
              "      <td>0.880475</td>\n",
              "      <td>0.021616</td>\n",
              "      <td>-0.022270</td>\n",
              "      <td>0.009026</td>\n",
              "      <td>0.044587</td>\n",
              "      <td>-0.167224</td>\n",
              "      <td>0.096821</td>\n",
              "      <td>...</td>\n",
              "      <td>0.072262</td>\n",
              "      <td>-0.003123</td>\n",
              "      <td>-0.037994</td>\n",
              "      <td>-0.014938</td>\n",
              "      <td>-0.019583</td>\n",
              "      <td>0.076903</td>\n",
              "      <td>-0.034510</td>\n",
              "      <td>0.034183</td>\n",
              "      <td>0.002815</td>\n",
              "      <td>54.876564</td>\n",
              "    </tr>\n",
              "    <tr>\n",
              "      <th>1.0</th>\n",
              "      <td>439.00000</td>\n",
              "      <td>-2.677884</td>\n",
              "      <td>-0.602658</td>\n",
              "      <td>-0.260694</td>\n",
              "      <td>3.143275</td>\n",
              "      <td>0.418809</td>\n",
              "      <td>-1.245684</td>\n",
              "      <td>-1.105907</td>\n",
              "      <td>0.661932</td>\n",
              "      <td>-1.520521</td>\n",
              "      <td>...</td>\n",
              "      <td>1.114625</td>\n",
              "      <td>0.589464</td>\n",
              "      <td>0.200214</td>\n",
              "      <td>0.455377</td>\n",
              "      <td>0.013198</td>\n",
              "      <td>0.162159</td>\n",
              "      <td>0.016239</td>\n",
              "      <td>0.004186</td>\n",
              "      <td>-0.053756</td>\n",
              "      <td>264.500000</td>\n",
              "    </tr>\n",
              "  </tbody>\n",
              "</table>\n",
              "<p>2 rows × 30 columns</p>\n",
              "</div>\n",
              "      <button class=\"colab-df-convert\" onclick=\"convertToInteractive('df-098eabb5-b9ae-4401-b30a-d743ffc11c9e')\"\n",
              "              title=\"Convert this dataframe to an interactive table.\"\n",
              "              style=\"display:none;\">\n",
              "        \n",
              "  <svg xmlns=\"http://www.w3.org/2000/svg\" height=\"24px\"viewBox=\"0 0 24 24\"\n",
              "       width=\"24px\">\n",
              "    <path d=\"M0 0h24v24H0V0z\" fill=\"none\"/>\n",
              "    <path d=\"M18.56 5.44l.94 2.06.94-2.06 2.06-.94-2.06-.94-.94-2.06-.94 2.06-2.06.94zm-11 1L8.5 8.5l.94-2.06 2.06-.94-2.06-.94L8.5 2.5l-.94 2.06-2.06.94zm10 10l.94 2.06.94-2.06 2.06-.94-2.06-.94-.94-2.06-.94 2.06-2.06.94z\"/><path d=\"M17.41 7.96l-1.37-1.37c-.4-.4-.92-.59-1.43-.59-.52 0-1.04.2-1.43.59L10.3 9.45l-7.72 7.72c-.78.78-.78 2.05 0 2.83L4 21.41c.39.39.9.59 1.41.59.51 0 1.02-.2 1.41-.59l7.78-7.78 2.81-2.81c.8-.78.8-2.07 0-2.86zM5.41 20L4 18.59l7.72-7.72 1.47 1.35L5.41 20z\"/>\n",
              "  </svg>\n",
              "      </button>\n",
              "      \n",
              "  <style>\n",
              "    .colab-df-container {\n",
              "      display:flex;\n",
              "      flex-wrap:wrap;\n",
              "      gap: 12px;\n",
              "    }\n",
              "\n",
              "    .colab-df-convert {\n",
              "      background-color: #E8F0FE;\n",
              "      border: none;\n",
              "      border-radius: 50%;\n",
              "      cursor: pointer;\n",
              "      display: none;\n",
              "      fill: #1967D2;\n",
              "      height: 32px;\n",
              "      padding: 0 0 0 0;\n",
              "      width: 32px;\n",
              "    }\n",
              "\n",
              "    .colab-df-convert:hover {\n",
              "      background-color: #E2EBFA;\n",
              "      box-shadow: 0px 1px 2px rgba(60, 64, 67, 0.3), 0px 1px 3px 1px rgba(60, 64, 67, 0.15);\n",
              "      fill: #174EA6;\n",
              "    }\n",
              "\n",
              "    [theme=dark] .colab-df-convert {\n",
              "      background-color: #3B4455;\n",
              "      fill: #D2E3FC;\n",
              "    }\n",
              "\n",
              "    [theme=dark] .colab-df-convert:hover {\n",
              "      background-color: #434B5C;\n",
              "      box-shadow: 0px 1px 3px 1px rgba(0, 0, 0, 0.15);\n",
              "      filter: drop-shadow(0px 1px 2px rgba(0, 0, 0, 0.3));\n",
              "      fill: #FFFFFF;\n",
              "    }\n",
              "  </style>\n",
              "\n",
              "      <script>\n",
              "        const buttonEl =\n",
              "          document.querySelector('#df-098eabb5-b9ae-4401-b30a-d743ffc11c9e button.colab-df-convert');\n",
              "        buttonEl.style.display =\n",
              "          google.colab.kernel.accessAllowed ? 'block' : 'none';\n",
              "\n",
              "        async function convertToInteractive(key) {\n",
              "          const element = document.querySelector('#df-098eabb5-b9ae-4401-b30a-d743ffc11c9e');\n",
              "          const dataTable =\n",
              "            await google.colab.kernel.invokeFunction('convertToInteractive',\n",
              "                                                     [key], {});\n",
              "          if (!dataTable) return;\n",
              "\n",
              "          const docLinkHtml = 'Like what you see? Visit the ' +\n",
              "            '<a target=\"_blank\" href=https://colab.research.google.com/notebooks/data_table.ipynb>data table notebook</a>'\n",
              "            + ' to learn more about interactive tables.';\n",
              "          element.innerHTML = '';\n",
              "          dataTable['output_type'] = 'display_data';\n",
              "          await google.colab.output.renderOutput(dataTable, element);\n",
              "          const docLink = document.createElement('div');\n",
              "          docLink.innerHTML = docLinkHtml;\n",
              "          element.appendChild(docLink);\n",
              "        }\n",
              "      </script>\n",
              "    </div>\n",
              "  </div>\n",
              "  "
            ]
          },
          "metadata": {},
          "execution_count": 32
        }
      ]
    },
    {
      "cell_type": "markdown",
      "source": [
        "Splitting the data into Features & Targets"
      ],
      "metadata": {
        "id": "419eMHwlWgYd"
      }
    },
    {
      "cell_type": "code",
      "source": [
        "X = new_dataset.drop(columns='Class', axis=1)\n",
        "Y = new_dataset['Class']"
      ],
      "metadata": {
        "id": "CD3ec--TWTHm"
      },
      "execution_count": 33,
      "outputs": []
    },
    {
      "cell_type": "code",
      "source": [
        "print(X)"
      ],
      "metadata": {
        "colab": {
          "base_uri": "https://localhost:8080/"
        },
        "id": "RYIHfJCVXHZi",
        "outputId": "ec7f78f7-7c07-451f-9161-637a54dd5414"
      },
      "execution_count": 34,
      "outputs": [
        {
          "output_type": "stream",
          "name": "stdout",
          "text": [
            "      Time        V1        V2        V3        V4        V5        V6  \\\n",
            "3153  2729 -1.753325  1.206679  2.113332  0.800421 -0.129349  0.038541   \n",
            "1645  1271 -3.438617 -2.357982  0.307655  1.007622  1.742124 -0.198183   \n",
            "2208  1732 -1.281371  0.364319  1.215915  0.756683  0.964225 -0.888641   \n",
            "2124  1634  1.075019 -0.257287  1.195543  1.735827 -0.822148  0.570728   \n",
            "2704  2243  1.226045 -0.022482  0.506098  0.855552 -0.672954 -0.741619   \n",
            "...    ...       ...       ...       ...       ...       ...       ...   \n",
            "3591  3069 -0.302521  0.447474 -0.495757 -3.214799  2.705041  2.762440   \n",
            "2875  2431 -0.343128  0.615676  0.769524 -2.340985  0.603103 -0.714567   \n",
            "1195   927  1.040094 -1.719288  1.556730 -0.080816 -2.156667  0.754853   \n",
            "541    406 -2.312227  1.951992 -1.609851  3.997906 -0.522188 -1.426545   \n",
            "623    472 -3.043541 -3.157307  1.088463  2.288644  1.359805 -1.064823   \n",
            "\n",
            "            V7        V8        V9  ...       V20       V21       V22  \\\n",
            "3153  0.747522 -1.025204  1.517721  ... -0.062879  0.148641  0.944147   \n",
            "1645  0.527978 -0.031639  0.632235  ... -1.326723 -0.502215  0.748089   \n",
            "2208 -0.004815 -0.033648 -0.378299  ...  0.094171 -0.194113 -0.373185   \n",
            "2124 -0.617130  0.356204  1.443170  ... -0.286207 -0.428928 -0.824378   \n",
            "2704 -0.106891 -0.062205  0.662056  ... -0.198482 -0.245534 -0.594098   \n",
            "...        ...       ...       ...  ...       ...       ...       ...   \n",
            "3591  0.593847  0.556451  0.697720  ...  0.156089  0.007343  0.250886   \n",
            "2875  1.030784 -0.224229  0.680863  ...  0.046698  0.053958  0.487707   \n",
            "1195 -1.708567  0.360145  1.174452  ...  0.305758  0.307719  0.990798   \n",
            "541  -2.537387  1.391657 -2.770089  ...  0.126911  0.517232 -0.035049   \n",
            "623   0.325574 -0.067794 -0.270953  ...  2.102339  0.661696  0.435477   \n",
            "\n",
            "           V23       V24       V25       V26       V27       V28  Amount  \n",
            "3153 -0.228204  0.422821 -0.318327 -0.476384 -2.409573 -0.921618    1.55  \n",
            "1645  2.191321 -0.902348  0.369987 -0.426451  0.260854 -0.720549  142.13  \n",
            "2208 -0.000018  0.074524 -0.668341  0.181969  0.141957  0.370891    2.28  \n",
            "2124  0.098087  0.046949  0.382196 -0.505682  0.082644  0.026379   12.61  \n",
            "2704  0.026694  0.394406  0.408814  0.272851 -0.031415  0.010616    9.44  \n",
            "...        ...       ...       ...       ...       ...       ...     ...  \n",
            "3591 -0.331600  1.009952  0.233730 -0.824471  0.241305 -0.020359    1.00  \n",
            "2875 -0.406704 -0.500383  0.142168 -0.804507  0.231795 -0.032959    1.00  \n",
            "1195 -0.352216 -0.050625  0.535660  0.117422  0.074743  0.048505  150.00  \n",
            "541  -0.465211  0.320198  0.044519  0.177840  0.261145 -0.143276    0.00  \n",
            "623   1.375966 -0.293803  0.279798 -0.145362 -0.252773  0.035764  529.00  \n",
            "\n",
            "[165 rows x 30 columns]\n"
          ]
        }
      ]
    },
    {
      "cell_type": "code",
      "source": [
        "print(Y)"
      ],
      "metadata": {
        "colab": {
          "base_uri": "https://localhost:8080/"
        },
        "id": "hQeZ06bqXJww",
        "outputId": "f9c764cc-cc81-4fbf-9595-6b201045d325"
      },
      "execution_count": 35,
      "outputs": [
        {
          "output_type": "stream",
          "name": "stdout",
          "text": [
            "3153    0.0\n",
            "1645    0.0\n",
            "2208    0.0\n",
            "2124    0.0\n",
            "2704    0.0\n",
            "       ... \n",
            "3591    0.0\n",
            "2875    0.0\n",
            "1195    0.0\n",
            "541     1.0\n",
            "623     1.0\n",
            "Name: Class, Length: 165, dtype: float64\n"
          ]
        }
      ]
    },
    {
      "cell_type": "markdown",
      "source": [
        "Split the data into Training data & Testing Data"
      ],
      "metadata": {
        "id": "Ep2WgygJXRgc"
      }
    },
    {
      "cell_type": "code",
      "source": [
        "X_train, X_test, Y_train, Y_test = train_test_split(X, Y, test_size=0.2, stratify=Y, random_state=2)"
      ],
      "metadata": {
        "id": "xIsSpFYXXNmk"
      },
      "execution_count": 36,
      "outputs": []
    },
    {
      "cell_type": "code",
      "source": [
        "print(X.shape, X_train.shape, X_test.shape)"
      ],
      "metadata": {
        "colab": {
          "base_uri": "https://localhost:8080/"
        },
        "id": "fsA_Y3OtYjCS",
        "outputId": "8275af31-4029-40c4-a97e-b8b77ca41b32"
      },
      "execution_count": 37,
      "outputs": [
        {
          "output_type": "stream",
          "name": "stdout",
          "text": [
            "(165, 30) (132, 30) (33, 30)\n"
          ]
        }
      ]
    },
    {
      "cell_type": "markdown",
      "source": [
        "Model Training"
      ],
      "metadata": {
        "id": "oAVTCar9Y3CR"
      }
    },
    {
      "cell_type": "markdown",
      "source": [
        "Logistic Regression"
      ],
      "metadata": {
        "id": "Dgmk-i5iY9gH"
      }
    },
    {
      "cell_type": "code",
      "source": [
        "model = LogisticRegression()"
      ],
      "metadata": {
        "id": "Dj9XaoZOYwCL"
      },
      "execution_count": 38,
      "outputs": []
    },
    {
      "cell_type": "code",
      "source": [
        "#training the logistic regression model with training data\n",
        "model.fit(X_train, Y_train)"
      ],
      "metadata": {
        "colab": {
          "base_uri": "https://localhost:8080/",
          "height": 234
        },
        "id": "WmI85J2rZJRI",
        "outputId": "5147d5d7-abc2-4442-9205-4c0a3c35dccc"
      },
      "execution_count": 39,
      "outputs": [
        {
          "output_type": "stream",
          "name": "stderr",
          "text": [
            "/usr/local/lib/python3.10/dist-packages/sklearn/linear_model/_logistic.py:458: ConvergenceWarning: lbfgs failed to converge (status=1):\n",
            "STOP: TOTAL NO. of ITERATIONS REACHED LIMIT.\n",
            "\n",
            "Increase the number of iterations (max_iter) or scale the data as shown in:\n",
            "    https://scikit-learn.org/stable/modules/preprocessing.html\n",
            "Please also refer to the documentation for alternative solver options:\n",
            "    https://scikit-learn.org/stable/modules/linear_model.html#logistic-regression\n",
            "  n_iter_i = _check_optimize_result(\n"
          ]
        },
        {
          "output_type": "execute_result",
          "data": {
            "text/plain": [
              "LogisticRegression()"
            ],
            "text/html": [
              "<style>#sk-container-id-1 {color: black;background-color: white;}#sk-container-id-1 pre{padding: 0;}#sk-container-id-1 div.sk-toggleable {background-color: white;}#sk-container-id-1 label.sk-toggleable__label {cursor: pointer;display: block;width: 100%;margin-bottom: 0;padding: 0.3em;box-sizing: border-box;text-align: center;}#sk-container-id-1 label.sk-toggleable__label-arrow:before {content: \"▸\";float: left;margin-right: 0.25em;color: #696969;}#sk-container-id-1 label.sk-toggleable__label-arrow:hover:before {color: black;}#sk-container-id-1 div.sk-estimator:hover label.sk-toggleable__label-arrow:before {color: black;}#sk-container-id-1 div.sk-toggleable__content {max-height: 0;max-width: 0;overflow: hidden;text-align: left;background-color: #f0f8ff;}#sk-container-id-1 div.sk-toggleable__content pre {margin: 0.2em;color: black;border-radius: 0.25em;background-color: #f0f8ff;}#sk-container-id-1 input.sk-toggleable__control:checked~div.sk-toggleable__content {max-height: 200px;max-width: 100%;overflow: auto;}#sk-container-id-1 input.sk-toggleable__control:checked~label.sk-toggleable__label-arrow:before {content: \"▾\";}#sk-container-id-1 div.sk-estimator input.sk-toggleable__control:checked~label.sk-toggleable__label {background-color: #d4ebff;}#sk-container-id-1 div.sk-label input.sk-toggleable__control:checked~label.sk-toggleable__label {background-color: #d4ebff;}#sk-container-id-1 input.sk-hidden--visually {border: 0;clip: rect(1px 1px 1px 1px);clip: rect(1px, 1px, 1px, 1px);height: 1px;margin: -1px;overflow: hidden;padding: 0;position: absolute;width: 1px;}#sk-container-id-1 div.sk-estimator {font-family: monospace;background-color: #f0f8ff;border: 1px dotted black;border-radius: 0.25em;box-sizing: border-box;margin-bottom: 0.5em;}#sk-container-id-1 div.sk-estimator:hover {background-color: #d4ebff;}#sk-container-id-1 div.sk-parallel-item::after {content: \"\";width: 100%;border-bottom: 1px solid gray;flex-grow: 1;}#sk-container-id-1 div.sk-label:hover label.sk-toggleable__label {background-color: #d4ebff;}#sk-container-id-1 div.sk-serial::before {content: \"\";position: absolute;border-left: 1px solid gray;box-sizing: border-box;top: 0;bottom: 0;left: 50%;z-index: 0;}#sk-container-id-1 div.sk-serial {display: flex;flex-direction: column;align-items: center;background-color: white;padding-right: 0.2em;padding-left: 0.2em;position: relative;}#sk-container-id-1 div.sk-item {position: relative;z-index: 1;}#sk-container-id-1 div.sk-parallel {display: flex;align-items: stretch;justify-content: center;background-color: white;position: relative;}#sk-container-id-1 div.sk-item::before, #sk-container-id-1 div.sk-parallel-item::before {content: \"\";position: absolute;border-left: 1px solid gray;box-sizing: border-box;top: 0;bottom: 0;left: 50%;z-index: -1;}#sk-container-id-1 div.sk-parallel-item {display: flex;flex-direction: column;z-index: 1;position: relative;background-color: white;}#sk-container-id-1 div.sk-parallel-item:first-child::after {align-self: flex-end;width: 50%;}#sk-container-id-1 div.sk-parallel-item:last-child::after {align-self: flex-start;width: 50%;}#sk-container-id-1 div.sk-parallel-item:only-child::after {width: 0;}#sk-container-id-1 div.sk-dashed-wrapped {border: 1px dashed gray;margin: 0 0.4em 0.5em 0.4em;box-sizing: border-box;padding-bottom: 0.4em;background-color: white;}#sk-container-id-1 div.sk-label label {font-family: monospace;font-weight: bold;display: inline-block;line-height: 1.2em;}#sk-container-id-1 div.sk-label-container {text-align: center;}#sk-container-id-1 div.sk-container {/* jupyter's `normalize.less` sets `[hidden] { display: none; }` but bootstrap.min.css set `[hidden] { display: none !important; }` so we also need the `!important` here to be able to override the default hidden behavior on the sphinx rendered scikit-learn.org. See: https://github.com/scikit-learn/scikit-learn/issues/21755 */display: inline-block !important;position: relative;}#sk-container-id-1 div.sk-text-repr-fallback {display: none;}</style><div id=\"sk-container-id-1\" class=\"sk-top-container\"><div class=\"sk-text-repr-fallback\"><pre>LogisticRegression()</pre><b>In a Jupyter environment, please rerun this cell to show the HTML representation or trust the notebook. <br />On GitHub, the HTML representation is unable to render, please try loading this page with nbviewer.org.</b></div><div class=\"sk-container\" hidden><div class=\"sk-item\"><div class=\"sk-estimator sk-toggleable\"><input class=\"sk-toggleable__control sk-hidden--visually\" id=\"sk-estimator-id-1\" type=\"checkbox\" checked><label for=\"sk-estimator-id-1\" class=\"sk-toggleable__label sk-toggleable__label-arrow\">LogisticRegression</label><div class=\"sk-toggleable__content\"><pre>LogisticRegression()</pre></div></div></div></div></div>"
            ]
          },
          "metadata": {},
          "execution_count": 39
        }
      ]
    },
    {
      "cell_type": "markdown",
      "source": [
        "Model Evaluation"
      ],
      "metadata": {
        "id": "jIfRJFF4ZriQ"
      }
    },
    {
      "cell_type": "markdown",
      "source": [
        "Accuracy Score"
      ],
      "metadata": {
        "id": "EqtyXymlZxSq"
      }
    },
    {
      "cell_type": "code",
      "source": [
        "# Accuracy on training data\n",
        "X_train_prediction = model.predict(X_train)\n",
        "training_data_accuracy = accuracy_score(X_train_prediction, Y_train)"
      ],
      "metadata": {
        "id": "PUZ-JkpmZe44"
      },
      "execution_count": 40,
      "outputs": []
    },
    {
      "cell_type": "code",
      "source": [
        "print('Accuracy on Training data : ', training_data_accuracy)"
      ],
      "metadata": {
        "colab": {
          "base_uri": "https://localhost:8080/"
        },
        "id": "3nwM7Yy5aXsr",
        "outputId": "a0d86559-2e74-487a-dcd5-8b923d585e5e"
      },
      "execution_count": 41,
      "outputs": [
        {
          "output_type": "stream",
          "name": "stdout",
          "text": [
            "Accuracy on Training data :  1.0\n"
          ]
        }
      ]
    },
    {
      "cell_type": "code",
      "source": [
        "# Accuracy on test data\n",
        "X_test_prediction = model.predict(X_test)\n",
        "test_data_accuracy = accuracy_score(X_test_prediction, Y_test)"
      ],
      "metadata": {
        "id": "1tYRaj1_arVM"
      },
      "execution_count": 42,
      "outputs": []
    },
    {
      "cell_type": "code",
      "source": [
        "print('Accuracy on Test data : ', test_data_accuracy)"
      ],
      "metadata": {
        "colab": {
          "base_uri": "https://localhost:8080/"
        },
        "id": "XkixdMLoba-F",
        "outputId": "8132d932-ba40-453a-8d42-6009a29a1f33"
      },
      "execution_count": 43,
      "outputs": [
        {
          "output_type": "stream",
          "name": "stdout",
          "text": [
            "Accuracy on Test data :  1.0\n"
          ]
        }
      ]
    },
    {
      "cell_type": "code",
      "source": [],
      "metadata": {
        "id": "6dZTgMB0bgoO"
      },
      "execution_count": null,
      "outputs": []
    }
  ]
}